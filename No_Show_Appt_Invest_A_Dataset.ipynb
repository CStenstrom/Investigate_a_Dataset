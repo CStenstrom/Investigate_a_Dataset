{
 "cells": [
  {
   "cell_type": "markdown",
   "id": "a8cfcd44",
   "metadata": {},
   "source": [
    "# Investigate a DataSet - No Show Appointments\n",
    "\n",
    "## Table of Contents\n",
    "<ul>\n",
    "    <li><a href=\"#intro\">Introduction</a></li>\n",
    "    <li><a href=\"#wrang\">Data Wrangling</a></li>\n",
    "    <li><a href=\"#explor\">Exploratory Data Analysis</a></li>\n",
    "    <ul>\n",
    "    <li><a href=\"#q1\">Medical Conditions</a></li>\n",
    "      <li><a href=\"#q2\">Gender</a></li>\n",
    "      <li><a href=\"#q3\">Time Spent Waiting</a></li>\n",
    "    </ul>\n",
    "    <li><a href=\"#conclude\">Conclusion</a></li>\n",
    "</ul>"
   ]
  },
  {
   "cell_type": "markdown",
   "id": "cedadf28",
   "metadata": {},
   "source": [
    "<a id='intro'></a>\n",
    "## Introduction\n",
    "\n",
    "\n",
    "### Description\n",
    "This dataset is composed of 110,527 records of scheduled doctor appointments.  Included are the following attributes:\n",
    "<ul>\n",
    "    <li>PatientID - ID of patient in exponential form</li>\n",
    "    <li>AppointmentID - Unique appointment identifier</li>\n",
    "\t<li>Gender - If the patient is male or female</li>\n",
    "\t<li>ScheduledDay - The day the appointment was actually scheduled</li>\n",
    "\t<li>AppointmentDay - The day the appointment was scheduled for</li>\n",
    "\t<li>Age - Age of the patient</li>\n",
    "\t<li>Neighbourhood - The neighborhood the hospital is located in</li>\n",
    "\t<li>Scholarship - If the patient participates in the Brazilian welfare program </li>\n",
    "\t<li>Hipertension - Is the patient diagnosed with hypertension</li>\n",
    "\t<li>Diabetes - Is the patient diagnosed with diabetes</li>\n",
    "\t<li>Alcoholism - Is the patient diagnosed with alcoholism</li>\n",
    "\t<li>Handcap - A number from 0 - 4 indicating the number of disabilities a patient has</li>\n",
    "\t<li>SMS_received - Were any SMS messages recieved about the appointment</li>\n",
    "\t<li>No-show - Whether the patient came to their appointment.  No means they came to their appointment while \tyes indicates they did not come.</li>\n",
    "</ul>\n",
    "\n",
    "### Questions for Analysis\n",
    "1.  Are patients that schedule appointments with less time between then and the appointment more likely to show up?\n",
    "\n",
    "2.  Are certain health conditions more likely to make their appointment nondependent on other factors?\n",
    "\n",
    "3.  How many men miss their appointment?  Women?\n",
    "\n",
    "4.  What day of the week has the most missed appointments?  What month?"
   ]
  },
  {
   "cell_type": "code",
   "execution_count": 2,
   "id": "7c5c648a",
   "metadata": {},
   "outputs": [],
   "source": [
    "# importing libraries, matplotlib charts will appear correctly in\n",
    "# notebook.  Set plots to Seaborn's whitegrid by default\n",
    "\n",
    "import pandas as pd\n",
    "import numpy as np\n",
    "import matplotlib.pyplot as plt\n",
    "import seaborn as sns\n",
    "\n",
    "%matplotlib inline\n",
    "\n",
    "sns.set_style('whitegrid')"
   ]
  },
  {
   "cell_type": "markdown",
   "id": "19e91472",
   "metadata": {},
   "source": [
    "<a id='wrang'></a>\n",
    "## Data Wrangling\n"
   ]
  },
  {
   "cell_type": "code",
   "execution_count": 3,
   "id": "cde20c15",
   "metadata": {},
   "outputs": [],
   "source": [
    "appt_df = pd.read_csv('KaggleV2-May-2016.csv')"
   ]
  },
  {
   "cell_type": "markdown",
   "id": "084f29f7",
   "metadata": {},
   "source": [
    "### General Properties\n",
    "\n",
    "With the libraries being used imported and the dataset loaded, the next step is going to take a broad overview of the dataset.  This will allow me to get a basic understanding of the variables and information I'm working with, along with being the first glisp to see if anything in particular looks really off and needs to be addressed."
   ]
  },
  {
   "cell_type": "code",
   "execution_count": 4,
   "id": "bdbe9a42",
   "metadata": {},
   "outputs": [
    {
     "data": {
      "text/html": [
       "<div>\n",
       "<style scoped>\n",
       "    .dataframe tbody tr th:only-of-type {\n",
       "        vertical-align: middle;\n",
       "    }\n",
       "\n",
       "    .dataframe tbody tr th {\n",
       "        vertical-align: top;\n",
       "    }\n",
       "\n",
       "    .dataframe thead th {\n",
       "        text-align: right;\n",
       "    }\n",
       "</style>\n",
       "<table border=\"1\" class=\"dataframe\">\n",
       "  <thead>\n",
       "    <tr style=\"text-align: right;\">\n",
       "      <th></th>\n",
       "      <th>PatientId</th>\n",
       "      <th>AppointmentID</th>\n",
       "      <th>Age</th>\n",
       "      <th>Scholarship</th>\n",
       "      <th>Hipertension</th>\n",
       "      <th>Diabetes</th>\n",
       "      <th>Alcoholism</th>\n",
       "      <th>Handcap</th>\n",
       "      <th>SMS_received</th>\n",
       "    </tr>\n",
       "  </thead>\n",
       "  <tbody>\n",
       "    <tr>\n",
       "      <th>count</th>\n",
       "      <td>1.105270e+05</td>\n",
       "      <td>1.105270e+05</td>\n",
       "      <td>110527.000000</td>\n",
       "      <td>110527.000000</td>\n",
       "      <td>110527.000000</td>\n",
       "      <td>110527.000000</td>\n",
       "      <td>110527.000000</td>\n",
       "      <td>110527.000000</td>\n",
       "      <td>110527.000000</td>\n",
       "    </tr>\n",
       "    <tr>\n",
       "      <th>mean</th>\n",
       "      <td>1.474963e+14</td>\n",
       "      <td>5.675305e+06</td>\n",
       "      <td>37.088874</td>\n",
       "      <td>0.098266</td>\n",
       "      <td>0.197246</td>\n",
       "      <td>0.071865</td>\n",
       "      <td>0.030400</td>\n",
       "      <td>0.022248</td>\n",
       "      <td>0.321026</td>\n",
       "    </tr>\n",
       "    <tr>\n",
       "      <th>std</th>\n",
       "      <td>2.560949e+14</td>\n",
       "      <td>7.129575e+04</td>\n",
       "      <td>23.110205</td>\n",
       "      <td>0.297675</td>\n",
       "      <td>0.397921</td>\n",
       "      <td>0.258265</td>\n",
       "      <td>0.171686</td>\n",
       "      <td>0.161543</td>\n",
       "      <td>0.466873</td>\n",
       "    </tr>\n",
       "    <tr>\n",
       "      <th>min</th>\n",
       "      <td>3.921784e+04</td>\n",
       "      <td>5.030230e+06</td>\n",
       "      <td>-1.000000</td>\n",
       "      <td>0.000000</td>\n",
       "      <td>0.000000</td>\n",
       "      <td>0.000000</td>\n",
       "      <td>0.000000</td>\n",
       "      <td>0.000000</td>\n",
       "      <td>0.000000</td>\n",
       "    </tr>\n",
       "    <tr>\n",
       "      <th>25%</th>\n",
       "      <td>4.172614e+12</td>\n",
       "      <td>5.640286e+06</td>\n",
       "      <td>18.000000</td>\n",
       "      <td>0.000000</td>\n",
       "      <td>0.000000</td>\n",
       "      <td>0.000000</td>\n",
       "      <td>0.000000</td>\n",
       "      <td>0.000000</td>\n",
       "      <td>0.000000</td>\n",
       "    </tr>\n",
       "    <tr>\n",
       "      <th>50%</th>\n",
       "      <td>3.173184e+13</td>\n",
       "      <td>5.680573e+06</td>\n",
       "      <td>37.000000</td>\n",
       "      <td>0.000000</td>\n",
       "      <td>0.000000</td>\n",
       "      <td>0.000000</td>\n",
       "      <td>0.000000</td>\n",
       "      <td>0.000000</td>\n",
       "      <td>0.000000</td>\n",
       "    </tr>\n",
       "    <tr>\n",
       "      <th>75%</th>\n",
       "      <td>9.439172e+13</td>\n",
       "      <td>5.725524e+06</td>\n",
       "      <td>55.000000</td>\n",
       "      <td>0.000000</td>\n",
       "      <td>0.000000</td>\n",
       "      <td>0.000000</td>\n",
       "      <td>0.000000</td>\n",
       "      <td>0.000000</td>\n",
       "      <td>1.000000</td>\n",
       "    </tr>\n",
       "    <tr>\n",
       "      <th>max</th>\n",
       "      <td>9.999816e+14</td>\n",
       "      <td>5.790484e+06</td>\n",
       "      <td>115.000000</td>\n",
       "      <td>1.000000</td>\n",
       "      <td>1.000000</td>\n",
       "      <td>1.000000</td>\n",
       "      <td>1.000000</td>\n",
       "      <td>4.000000</td>\n",
       "      <td>1.000000</td>\n",
       "    </tr>\n",
       "  </tbody>\n",
       "</table>\n",
       "</div>"
      ],
      "text/plain": [
       "          PatientId  AppointmentID            Age    Scholarship  \\\n",
       "count  1.105270e+05   1.105270e+05  110527.000000  110527.000000   \n",
       "mean   1.474963e+14   5.675305e+06      37.088874       0.098266   \n",
       "std    2.560949e+14   7.129575e+04      23.110205       0.297675   \n",
       "min    3.921784e+04   5.030230e+06      -1.000000       0.000000   \n",
       "25%    4.172614e+12   5.640286e+06      18.000000       0.000000   \n",
       "50%    3.173184e+13   5.680573e+06      37.000000       0.000000   \n",
       "75%    9.439172e+13   5.725524e+06      55.000000       0.000000   \n",
       "max    9.999816e+14   5.790484e+06     115.000000       1.000000   \n",
       "\n",
       "        Hipertension       Diabetes     Alcoholism        Handcap  \\\n",
       "count  110527.000000  110527.000000  110527.000000  110527.000000   \n",
       "mean        0.197246       0.071865       0.030400       0.022248   \n",
       "std         0.397921       0.258265       0.171686       0.161543   \n",
       "min         0.000000       0.000000       0.000000       0.000000   \n",
       "25%         0.000000       0.000000       0.000000       0.000000   \n",
       "50%         0.000000       0.000000       0.000000       0.000000   \n",
       "75%         0.000000       0.000000       0.000000       0.000000   \n",
       "max         1.000000       1.000000       1.000000       4.000000   \n",
       "\n",
       "        SMS_received  \n",
       "count  110527.000000  \n",
       "mean        0.321026  \n",
       "std         0.466873  \n",
       "min         0.000000  \n",
       "25%         0.000000  \n",
       "50%         0.000000  \n",
       "75%         1.000000  \n",
       "max         1.000000  "
      ]
     },
     "execution_count": 4,
     "metadata": {},
     "output_type": "execute_result"
    }
   ],
   "source": [
    "appt_df.describe()"
   ]
  },
  {
   "cell_type": "code",
   "execution_count": 5,
   "id": "d9b1148a",
   "metadata": {},
   "outputs": [
    {
     "data": {
      "text/plain": [
       "PatientId         0\n",
       "AppointmentID     0\n",
       "Gender            0\n",
       "ScheduledDay      0\n",
       "AppointmentDay    0\n",
       "Age               0\n",
       "Neighbourhood     0\n",
       "Scholarship       0\n",
       "Hipertension      0\n",
       "Diabetes          0\n",
       "Alcoholism        0\n",
       "Handcap           0\n",
       "SMS_received      0\n",
       "No-show           0\n",
       "dtype: int64"
      ]
     },
     "execution_count": 5,
     "metadata": {},
     "output_type": "execute_result"
    }
   ],
   "source": [
    "appt_df.isnull().sum()"
   ]
  },
  {
   "cell_type": "code",
   "execution_count": 6,
   "id": "5259a169",
   "metadata": {},
   "outputs": [
    {
     "name": "stdout",
     "output_type": "stream",
     "text": [
      "<class 'pandas.core.frame.DataFrame'>\n",
      "RangeIndex: 110527 entries, 0 to 110526\n",
      "Data columns (total 14 columns):\n",
      " #   Column          Non-Null Count   Dtype  \n",
      "---  ------          --------------   -----  \n",
      " 0   PatientId       110527 non-null  float64\n",
      " 1   AppointmentID   110527 non-null  int64  \n",
      " 2   Gender          110527 non-null  object \n",
      " 3   ScheduledDay    110527 non-null  object \n",
      " 4   AppointmentDay  110527 non-null  object \n",
      " 5   Age             110527 non-null  int64  \n",
      " 6   Neighbourhood   110527 non-null  object \n",
      " 7   Scholarship     110527 non-null  int64  \n",
      " 8   Hipertension    110527 non-null  int64  \n",
      " 9   Diabetes        110527 non-null  int64  \n",
      " 10  Alcoholism      110527 non-null  int64  \n",
      " 11  Handcap         110527 non-null  int64  \n",
      " 12  SMS_received    110527 non-null  int64  \n",
      " 13  No-show         110527 non-null  object \n",
      "dtypes: float64(1), int64(8), object(5)\n",
      "memory usage: 11.8+ MB\n"
     ]
    }
   ],
   "source": [
    "appt_df.info()"
   ]
  },
  {
   "cell_type": "markdown",
   "id": "be894895",
   "metadata": {},
   "source": [
    "### Cleaning the Data / Refining my Questions\n",
    "\n",
    "Just from viewing the information about the dataframe and the broad summary of the dataset a few things jump out that will be taken care of.  The minimum value in the Age column is -1, which isn't possible.  Being only one record out of the 110,526 I'm going to just remove it completely. Luckily there are no missing values that need to be addressed.\n",
    "\n",
    "Additionally I will: \n",
    "\n",
    "* rename some of the columns to correct errors and to adjust for personal preference\n",
    "* drop columns that aren't explicity useful in answering the questions I previously posed\n",
    "* Handicap has values ranging from 0-4, unlike the rest of the columns that are 0 and 1.  Instead of True and False it's telling us the number of disabilities the patient has. I will change this to match the other columns with 0 staying 0 (false or no handicap) and 1, 2, 3, 4 all being represented as 1 (true or handicap present).\n",
    "* I'm going to change the name and values of the column No-show to make it a bit clearer. Instead of Yes and No I will use 0 and 1 like many of the other variables.  \n",
    "\n",
    "> Orginally the column was named No-Show and each value was Yes or No.  No indicated a person attended their appointment while yes indicated they no-showed.  With my changes I'm basically flipping it completely, the new column name will be Came_To_Appt, No (would have changed to Yes) but will now be indicated by 1 (True) and Yes will be replaced with 0 (False if we are answering the question if they came to their appointment.)\n",
    "\n",
    "Lastly, there's a few datatypes I'm going to convert (such as Date_Scheduled from object to datetime) as well as a few new columns I'll want to add."
   ]
  },
  {
   "cell_type": "code",
   "execution_count": 7,
   "id": "071fe88a",
   "metadata": {},
   "outputs": [],
   "source": [
    "appt_df.rename(columns=\n",
    "                            {\"PatientId\"  :  \"Patient_ID\",\n",
    "                            \"AppointmentID\"  :  \"Appointment_ID\",\n",
    "                            \"Neighbourhood\"  :  \"Neighborhood\",\n",
    "                            \"Hipertension\"  :  \"Hypertension\",\n",
    "                            \"Handcap\"  :  \"Handicap\"}, inplace=True)"
   ]
  },
  {
   "cell_type": "code",
   "execution_count": 8,
   "id": "39fbbbde",
   "metadata": {},
   "outputs": [],
   "source": [
    "appt_df.drop(['Appointment_ID', 'Neighborhood', 'SMS_received'], axis=1, inplace=True)"
   ]
  },
  {
   "cell_type": "code",
   "execution_count": 9,
   "id": "44df0791",
   "metadata": {},
   "outputs": [],
   "source": [
    "appt_df = appt_df.rename(columns={'No-show' : 'Came_To_Appt'})\n",
    "appt_df['Came_To_Appt'] = appt_df['Came_To_Appt'].replace({'No' : 1, 'Yes' : 0})\n",
    "\n",
    "appt_df['Handicap'] = appt_df['Handicap'].replace({1: 1, 2: 1, 3: 1, 4: 1})"
   ]
  },
  {
   "cell_type": "code",
   "execution_count": 10,
   "id": "a123919c",
   "metadata": {},
   "outputs": [],
   "source": [
    "# Converting the date columns to datetime which allows for a cleaner look but will also allow me to create the next column\n",
    "# Days_Between.  This column will give the number of days a patient waited between scheduling the appointment \n",
    "# and actually seeing the doctor\n",
    "\n",
    "appt_df['Date_Scheduled'] = pd.to_datetime(appt_df['ScheduledDay']).dt.date\n",
    "appt_df['Appt_Date'] = pd.to_datetime(appt_df['AppointmentDay']).dt.date\n",
    "\n",
    "appt_df['Days_Between'] = appt_df.Appt_Date - appt_df.Date_Scheduled"
   ]
  },
  {
   "cell_type": "code",
   "execution_count": 11,
   "id": "21a1abd4",
   "metadata": {},
   "outputs": [],
   "source": [
    "# Adding columns for the day of the week and the month in which the appointment was scheduled \n",
    "\n",
    "appt_df['Scheduled_Day'] = pd.to_datetime(appt_df.Date_Scheduled).dt.day_name()\n",
    "appt_df['Scheduled_Month'] = pd.to_datetime(appt_df.Date_Scheduled).dt.month_name()\n",
    "\n",
    "# Also adding columns for the day of the week and the month in which the appointment was scheduled for\n",
    "\n",
    "appt_df['Appt_Day'] = pd.to_datetime(appt_df.Appt_Date).dt.day_name()\n",
    "appt_df['Appt_Month'] = pd.to_datetime(appt_df.Appt_Date).dt.month_name()"
   ]
  },
  {
   "cell_type": "code",
   "execution_count": 12,
   "id": "100778a7",
   "metadata": {},
   "outputs": [],
   "source": [
    "# conversion of Days_Between from datetime64 to int64 for ease of equations and comparisons\n",
    "\n",
    "appt_df.Days_Between = appt_df.Days_Between.astype('str')\n",
    "appt_df.Days_Between = appt_df.Days_Between.apply(lambda x: x.split()[0])\n",
    "appt_df.Days_Between = appt_df.Days_Between.astype('int64')"
   ]
  },
  {
   "cell_type": "code",
   "execution_count": 13,
   "id": "006e609f",
   "metadata": {},
   "outputs": [],
   "source": [
    "appt_df.Patient_ID = appt_df.Patient_ID.astype('int64')"
   ]
  },
  {
   "cell_type": "markdown",
   "id": "083cc47c",
   "metadata": {},
   "source": [
    "The new column highlighted some erroneous records that calculated as a negative value.  Since the appointment can't come prior to it being made, I'm going to remove these records from the data being analyzed."
   ]
  },
  {
   "cell_type": "code",
   "execution_count": 14,
   "id": "f116277f",
   "metadata": {},
   "outputs": [],
   "source": [
    "# Removing the row with the -1 and 115 value for Age\n",
    "\n",
    "appt_df.drop(appt_df.index[appt_df['Age'] == -1], axis=0, inplace=True)\n",
    "appt_df.drop(appt_df.index[appt_df['Age'] == 115], axis=0, inplace=True)\n",
    "\n",
    "# Removing the rows with less than 0 as the calculated days between scheduling and the appointment\n",
    "\n",
    "appt_df.drop(appt_df.index[appt_df['Days_Between'] < 0], axis=0, inplace=True)"
   ]
  },
  {
   "cell_type": "markdown",
   "id": "adafa899",
   "metadata": {},
   "source": [
    "---\n",
    "\n",
    "**Over the next few code cells I group the data by gender and calculate the ratio of men and women.**\n",
    "\n",
    "**The estimated ratio of men to women in Brazil in 2016 was 1.05 male to female.  This dataset's ratio is 1.86, there are nearly double the number of females to males in which data was collected.  Therefore, I'm going to sample random records from this data to bring the ratio closer to the actual populations ratio to see if there is a gender bias.  I created a new dataframe with the sampled data to keep the integrity of the orginial set and so I'd have the ability to compare and look for signs of a gender bias.**\n",
    "\n",
    "---"
   ]
  },
  {
   "cell_type": "code",
   "execution_count": 15,
   "id": "2694ff3b",
   "metadata": {},
   "outputs": [],
   "source": [
    "females = appt_df[appt_df['Gender'] == 'F']\n",
    "total_females = len(females)"
   ]
  },
  {
   "cell_type": "code",
   "execution_count": 16,
   "id": "8aab3509",
   "metadata": {},
   "outputs": [],
   "source": [
    "males = appt_df[appt_df['Gender'] == 'M']\n",
    "total_males = len(males)"
   ]
  },
  {
   "cell_type": "code",
   "execution_count": 17,
   "id": "f821acfc",
   "metadata": {},
   "outputs": [
    {
     "name": "stdout",
     "output_type": "stream",
     "text": [
      "Number of females in the dataset:  71831\n",
      "Number of men in the dataset:  38685\n",
      "Ratio of women to men: 1.8568178880703115\n"
     ]
    }
   ],
   "source": [
    "print(\"Number of females in the dataset: \", total_females)\n",
    "print(\"Number of men in the dataset: \", total_males)\n",
    "print(\"Ratio of women to men:\", total_females / total_males)"
   ]
  },
  {
   "cell_type": "code",
   "execution_count": 18,
   "id": "6c51ed8a",
   "metadata": {},
   "outputs": [],
   "source": [
    "new_appt_df = females.sample(n=38685)"
   ]
  },
  {
   "cell_type": "code",
   "execution_count": 19,
   "id": "940683ae",
   "metadata": {},
   "outputs": [],
   "source": [
    "new_appt_df = new_appt_df.append(males)"
   ]
  },
  {
   "cell_type": "markdown",
   "id": "599a5456",
   "metadata": {},
   "source": [
    "After seperating the records by gender, I used the sample() method to randomly pick the records.  With three dataframes now, I brought the female and male records back together, as new_appt_df.  \n",
    "\n",
    "After removing the records that had incorrect / impossible values, and bringing the ratio of male to female around Brazil's overall ratio there are now 77,370 records I will be analyzing. With the original dataset having 110,527 records I will be working with both datasets as a way to not only see if conclusions may differ, but also as a means to make sure working with the smaller dataset isn't harming the process."
   ]
  },
  {
   "cell_type": "code",
   "execution_count": 20,
   "id": "86254acf",
   "metadata": {},
   "outputs": [
    {
     "name": "stdout",
     "output_type": "stream",
     "text": [
      "Number of females in the dataset:  38685\n",
      "Number of men in the dataset:  38685\n",
      "Ratio of women to men: 1.0\n"
     ]
    }
   ],
   "source": [
    "female = new_appt_df[new_appt_df['Gender'] == 'F']\n",
    "total_female = len(female)\n",
    "\n",
    "male = new_appt_df[new_appt_df['Gender'] == 'M']\n",
    "total_male = len(male)\n",
    "\n",
    "print(\"Number of females in the dataset: \", total_female)\n",
    "print(\"Number of men in the dataset: \", total_male)\n",
    "print(\"Ratio of women to men:\", total_female / total_male)"
   ]
  },
  {
   "cell_type": "markdown",
   "id": "d67f40b4",
   "metadata": {},
   "source": [
    "> While not exactly at 1.05, this ratio is signficantly closer than my original.  As I explore the dataset further, I'll be interested to see how big of an impact, if any, the difference makes.  "
   ]
  },
  {
   "cell_type": "code",
   "execution_count": 21,
   "id": "7c7d88c2",
   "metadata": {},
   "outputs": [
    {
     "data": {
      "text/html": [
       "<div>\n",
       "<style scoped>\n",
       "    .dataframe tbody tr th:only-of-type {\n",
       "        vertical-align: middle;\n",
       "    }\n",
       "\n",
       "    .dataframe tbody tr th {\n",
       "        vertical-align: top;\n",
       "    }\n",
       "\n",
       "    .dataframe thead th {\n",
       "        text-align: right;\n",
       "    }\n",
       "</style>\n",
       "<table border=\"1\" class=\"dataframe\">\n",
       "  <thead>\n",
       "    <tr style=\"text-align: right;\">\n",
       "      <th></th>\n",
       "      <th>Patient_ID</th>\n",
       "      <th>Age</th>\n",
       "      <th>Scholarship</th>\n",
       "      <th>Hypertension</th>\n",
       "      <th>Diabetes</th>\n",
       "      <th>Alcoholism</th>\n",
       "      <th>Handicap</th>\n",
       "      <th>Came_To_Appt</th>\n",
       "      <th>Days_Between</th>\n",
       "    </tr>\n",
       "  </thead>\n",
       "  <tbody>\n",
       "    <tr>\n",
       "      <th>count</th>\n",
       "      <td>7.737000e+04</td>\n",
       "      <td>77370.000000</td>\n",
       "      <td>77370.000000</td>\n",
       "      <td>77370.000000</td>\n",
       "      <td>77370.000000</td>\n",
       "      <td>77370.000000</td>\n",
       "      <td>77370.000000</td>\n",
       "      <td>77370.000000</td>\n",
       "      <td>77370.000000</td>\n",
       "    </tr>\n",
       "    <tr>\n",
       "      <th>mean</th>\n",
       "      <td>1.482010e+14</td>\n",
       "      <td>36.353108</td>\n",
       "      <td>0.087023</td>\n",
       "      <td>0.190552</td>\n",
       "      <td>0.069200</td>\n",
       "      <td>0.036267</td>\n",
       "      <td>0.021223</td>\n",
       "      <td>0.797984</td>\n",
       "      <td>10.072431</td>\n",
       "    </tr>\n",
       "    <tr>\n",
       "      <th>std</th>\n",
       "      <td>2.562730e+14</td>\n",
       "      <td>23.503564</td>\n",
       "      <td>0.281871</td>\n",
       "      <td>0.392739</td>\n",
       "      <td>0.253795</td>\n",
       "      <td>0.186956</td>\n",
       "      <td>0.144127</td>\n",
       "      <td>0.401507</td>\n",
       "      <td>15.157828</td>\n",
       "    </tr>\n",
       "    <tr>\n",
       "      <th>min</th>\n",
       "      <td>3.921700e+04</td>\n",
       "      <td>0.000000</td>\n",
       "      <td>0.000000</td>\n",
       "      <td>0.000000</td>\n",
       "      <td>0.000000</td>\n",
       "      <td>0.000000</td>\n",
       "      <td>0.000000</td>\n",
       "      <td>0.000000</td>\n",
       "      <td>0.000000</td>\n",
       "    </tr>\n",
       "    <tr>\n",
       "      <th>25%</th>\n",
       "      <td>4.227129e+12</td>\n",
       "      <td>16.000000</td>\n",
       "      <td>0.000000</td>\n",
       "      <td>0.000000</td>\n",
       "      <td>0.000000</td>\n",
       "      <td>0.000000</td>\n",
       "      <td>0.000000</td>\n",
       "      <td>1.000000</td>\n",
       "      <td>0.000000</td>\n",
       "    </tr>\n",
       "    <tr>\n",
       "      <th>50%</th>\n",
       "      <td>3.237937e+13</td>\n",
       "      <td>36.000000</td>\n",
       "      <td>0.000000</td>\n",
       "      <td>0.000000</td>\n",
       "      <td>0.000000</td>\n",
       "      <td>0.000000</td>\n",
       "      <td>0.000000</td>\n",
       "      <td>1.000000</td>\n",
       "      <td>4.000000</td>\n",
       "    </tr>\n",
       "    <tr>\n",
       "      <th>75%</th>\n",
       "      <td>9.456210e+13</td>\n",
       "      <td>55.000000</td>\n",
       "      <td>0.000000</td>\n",
       "      <td>0.000000</td>\n",
       "      <td>0.000000</td>\n",
       "      <td>0.000000</td>\n",
       "      <td>0.000000</td>\n",
       "      <td>1.000000</td>\n",
       "      <td>14.000000</td>\n",
       "    </tr>\n",
       "    <tr>\n",
       "      <th>max</th>\n",
       "      <td>9.999816e+14</td>\n",
       "      <td>102.000000</td>\n",
       "      <td>1.000000</td>\n",
       "      <td>1.000000</td>\n",
       "      <td>1.000000</td>\n",
       "      <td>1.000000</td>\n",
       "      <td>1.000000</td>\n",
       "      <td>1.000000</td>\n",
       "      <td>179.000000</td>\n",
       "    </tr>\n",
       "  </tbody>\n",
       "</table>\n",
       "</div>"
      ],
      "text/plain": [
       "         Patient_ID           Age   Scholarship  Hypertension      Diabetes  \\\n",
       "count  7.737000e+04  77370.000000  77370.000000  77370.000000  77370.000000   \n",
       "mean   1.482010e+14     36.353108      0.087023      0.190552      0.069200   \n",
       "std    2.562730e+14     23.503564      0.281871      0.392739      0.253795   \n",
       "min    3.921700e+04      0.000000      0.000000      0.000000      0.000000   \n",
       "25%    4.227129e+12     16.000000      0.000000      0.000000      0.000000   \n",
       "50%    3.237937e+13     36.000000      0.000000      0.000000      0.000000   \n",
       "75%    9.456210e+13     55.000000      0.000000      0.000000      0.000000   \n",
       "max    9.999816e+14    102.000000      1.000000      1.000000      1.000000   \n",
       "\n",
       "         Alcoholism      Handicap  Came_To_Appt  Days_Between  \n",
       "count  77370.000000  77370.000000  77370.000000  77370.000000  \n",
       "mean       0.036267      0.021223      0.797984     10.072431  \n",
       "std        0.186956      0.144127      0.401507     15.157828  \n",
       "min        0.000000      0.000000      0.000000      0.000000  \n",
       "25%        0.000000      0.000000      1.000000      0.000000  \n",
       "50%        0.000000      0.000000      1.000000      4.000000  \n",
       "75%        0.000000      0.000000      1.000000     14.000000  \n",
       "max        1.000000      1.000000      1.000000    179.000000  "
      ]
     },
     "execution_count": 21,
     "metadata": {},
     "output_type": "execute_result"
    }
   ],
   "source": [
    "new_appt_df.describe()"
   ]
  },
  {
   "cell_type": "markdown",
   "id": "a104d6d9",
   "metadata": {},
   "source": [
    "Looking at describe() on the new dataset, I can see all the values look realatively okay.  The columns represented in binary all have 0 and 1 for the min and max values.  There's a max value of 115 for Age, but unlike the -1, it's not impossible. I will also remove the columns ScheduledDay and AppointmentDay - they are just repeated data now that I recreated the date columns as datetime types"
   ]
  },
  {
   "cell_type": "code",
   "execution_count": 22,
   "id": "162b3dba",
   "metadata": {},
   "outputs": [],
   "source": [
    "new_appt_df.drop(['ScheduledDay', 'AppointmentDay'], axis=1, inplace=True)"
   ]
  },
  {
   "cell_type": "code",
   "execution_count": 23,
   "id": "6691c4a4",
   "metadata": {},
   "outputs": [],
   "source": [
    "# reset the index for simplicitiy\n",
    "\n",
    "new_appt_df = new_appt_df.reset_index(drop=True)"
   ]
  },
  {
   "cell_type": "code",
   "execution_count": 24,
   "id": "70b65317",
   "metadata": {},
   "outputs": [
    {
     "data": {
      "text/html": [
       "<div>\n",
       "<style scoped>\n",
       "    .dataframe tbody tr th:only-of-type {\n",
       "        vertical-align: middle;\n",
       "    }\n",
       "\n",
       "    .dataframe tbody tr th {\n",
       "        vertical-align: top;\n",
       "    }\n",
       "\n",
       "    .dataframe thead th {\n",
       "        text-align: right;\n",
       "    }\n",
       "</style>\n",
       "<table border=\"1\" class=\"dataframe\">\n",
       "  <thead>\n",
       "    <tr style=\"text-align: right;\">\n",
       "      <th></th>\n",
       "      <th>Patient_ID</th>\n",
       "      <th>Gender</th>\n",
       "      <th>Age</th>\n",
       "      <th>Scholarship</th>\n",
       "      <th>Hypertension</th>\n",
       "      <th>Diabetes</th>\n",
       "      <th>Alcoholism</th>\n",
       "      <th>Handicap</th>\n",
       "      <th>Came_To_Appt</th>\n",
       "      <th>Date_Scheduled</th>\n",
       "      <th>Appt_Date</th>\n",
       "      <th>Days_Between</th>\n",
       "      <th>Scheduled_Day</th>\n",
       "      <th>Scheduled_Month</th>\n",
       "      <th>Appt_Day</th>\n",
       "      <th>Appt_Month</th>\n",
       "    </tr>\n",
       "  </thead>\n",
       "  <tbody>\n",
       "    <tr>\n",
       "      <th>0</th>\n",
       "      <td>12663968764836</td>\n",
       "      <td>F</td>\n",
       "      <td>70</td>\n",
       "      <td>0</td>\n",
       "      <td>1</td>\n",
       "      <td>1</td>\n",
       "      <td>0</td>\n",
       "      <td>0</td>\n",
       "      <td>1</td>\n",
       "      <td>2016-04-27</td>\n",
       "      <td>2016-05-06</td>\n",
       "      <td>9</td>\n",
       "      <td>Wednesday</td>\n",
       "      <td>April</td>\n",
       "      <td>Friday</td>\n",
       "      <td>May</td>\n",
       "    </tr>\n",
       "    <tr>\n",
       "      <th>1</th>\n",
       "      <td>6587475742615</td>\n",
       "      <td>F</td>\n",
       "      <td>72</td>\n",
       "      <td>0</td>\n",
       "      <td>1</td>\n",
       "      <td>0</td>\n",
       "      <td>0</td>\n",
       "      <td>0</td>\n",
       "      <td>1</td>\n",
       "      <td>2016-05-10</td>\n",
       "      <td>2016-05-16</td>\n",
       "      <td>6</td>\n",
       "      <td>Tuesday</td>\n",
       "      <td>May</td>\n",
       "      <td>Monday</td>\n",
       "      <td>May</td>\n",
       "    </tr>\n",
       "    <tr>\n",
       "      <th>2</th>\n",
       "      <td>43871982287596</td>\n",
       "      <td>F</td>\n",
       "      <td>50</td>\n",
       "      <td>0</td>\n",
       "      <td>0</td>\n",
       "      <td>0</td>\n",
       "      <td>0</td>\n",
       "      <td>0</td>\n",
       "      <td>1</td>\n",
       "      <td>2016-05-19</td>\n",
       "      <td>2016-05-19</td>\n",
       "      <td>0</td>\n",
       "      <td>Thursday</td>\n",
       "      <td>May</td>\n",
       "      <td>Thursday</td>\n",
       "      <td>May</td>\n",
       "    </tr>\n",
       "  </tbody>\n",
       "</table>\n",
       "</div>"
      ],
      "text/plain": [
       "       Patient_ID Gender  Age  Scholarship  Hypertension  Diabetes  \\\n",
       "0  12663968764836      F   70            0             1         1   \n",
       "1   6587475742615      F   72            0             1         0   \n",
       "2  43871982287596      F   50            0             0         0   \n",
       "\n",
       "   Alcoholism  Handicap  Came_To_Appt Date_Scheduled   Appt_Date  \\\n",
       "0           0         0             1     2016-04-27  2016-05-06   \n",
       "1           0         0             1     2016-05-10  2016-05-16   \n",
       "2           0         0             1     2016-05-19  2016-05-19   \n",
       "\n",
       "   Days_Between Scheduled_Day Scheduled_Month  Appt_Day Appt_Month  \n",
       "0             9     Wednesday           April    Friday        May  \n",
       "1             6       Tuesday             May    Monday        May  \n",
       "2             0      Thursday             May  Thursday        May  "
      ]
     },
     "execution_count": 24,
     "metadata": {},
     "output_type": "execute_result"
    }
   ],
   "source": [
    "# One last look at how the data looks after cleaning\n",
    "\n",
    "new_appt_df.head(3)"
   ]
  },
  {
   "cell_type": "code",
   "execution_count": 25,
   "id": "81c187e2",
   "metadata": {},
   "outputs": [
    {
     "name": "stdout",
     "output_type": "stream",
     "text": [
      "<class 'pandas.core.frame.DataFrame'>\n",
      "RangeIndex: 77370 entries, 0 to 77369\n",
      "Data columns (total 16 columns):\n",
      " #   Column           Non-Null Count  Dtype \n",
      "---  ------           --------------  ----- \n",
      " 0   Patient_ID       77370 non-null  int64 \n",
      " 1   Gender           77370 non-null  object\n",
      " 2   Age              77370 non-null  int64 \n",
      " 3   Scholarship      77370 non-null  int64 \n",
      " 4   Hypertension     77370 non-null  int64 \n",
      " 5   Diabetes         77370 non-null  int64 \n",
      " 6   Alcoholism       77370 non-null  int64 \n",
      " 7   Handicap         77370 non-null  int64 \n",
      " 8   Came_To_Appt     77370 non-null  int64 \n",
      " 9   Date_Scheduled   77370 non-null  object\n",
      " 10  Appt_Date        77370 non-null  object\n",
      " 11  Days_Between     77370 non-null  int64 \n",
      " 12  Scheduled_Day    77370 non-null  object\n",
      " 13  Scheduled_Month  77370 non-null  object\n",
      " 14  Appt_Day         77370 non-null  object\n",
      " 15  Appt_Month       77370 non-null  object\n",
      "dtypes: int64(9), object(7)\n",
      "memory usage: 9.4+ MB\n"
     ]
    }
   ],
   "source": [
    "new_appt_df.info()"
   ]
  },
  {
   "cell_type": "code",
   "execution_count": 26,
   "id": "225bde5e",
   "metadata": {},
   "outputs": [],
   "source": [
    "# create two dataframes, seperating records by who did and did not come to their appointment\n",
    "\n",
    "show_df = new_appt_df[new_appt_df['Came_To_Appt'] == 1]\n",
    "no_show_df = new_appt_df[new_appt_df['Came_To_Appt'] == 0]"
   ]
  },
  {
   "cell_type": "markdown",
   "id": "51affc46",
   "metadata": {},
   "source": [
    "<a id='explor'></a>\n",
    "## Exploratory Data Analysis"
   ]
  },
  {
   "cell_type": "code",
   "execution_count": 80,
   "id": "a84d9e35",
   "metadata": {},
   "outputs": [
    {
     "data": {
      "text/plain": [
       "Text(0.5, 1.0, 'Ages of Patients Scheduling Appointments')"
      ]
     },
     "execution_count": 80,
     "metadata": {},
     "output_type": "execute_result"
    },
    {
     "data": {
      "image/png": "[encoded data removed]",
      "text/plain": [
       "<Figure size 720x432 with 1 Axes>"
      ]
     },
     "metadata": {},
     "output_type": "display_data"
    }
   ],
   "source": [
    "new_appt_df.Age.hist(bins=20, histtype='stepfilled', figsize=(10,6), color='c')\n",
    "plt.xlabel('Age')\n",
    "plt.ylabel('Count')\n",
    "plt.axvline(new_appt_df.Age.mean(), color='k', linestyle='dashed')\n",
    "plt.title('Ages of Patients Scheduling Appointments')\n"
   ]
  },
  {
   "cell_type": "markdown",
   "id": "288ac607",
   "metadata": {},
   "source": [
    "The range of ages is fairly evenly spread and skewed positively (due to age never being below 0), and then tapers off after 60.  "
   ]
  },
  {
   "cell_type": "code",
   "execution_count": 59,
   "id": "1d8d0976",
   "metadata": {},
   "outputs": [
    {
     "data": {
      "text/plain": [
       "datetime.date(2015, 12, 3)"
      ]
     },
     "execution_count": 59,
     "metadata": {},
     "output_type": "execute_result"
    }
   ],
   "source": [
    "new_appt_df.Date_Scheduled.min()"
   ]
  },
  {
   "cell_type": "code",
   "execution_count": 60,
   "id": "b2f2dd85",
   "metadata": {},
   "outputs": [
    {
     "data": {
      "text/plain": [
       "datetime.date(2016, 6, 8)"
      ]
     },
     "execution_count": 60,
     "metadata": {},
     "output_type": "execute_result"
    }
   ],
   "source": [
    "new_appt_df.Date_Scheduled.max()"
   ]
  },
  {
   "cell_type": "code",
   "execution_count": 29,
   "id": "e24befa7",
   "metadata": {},
   "outputs": [
    {
     "data": {
      "text/plain": [
       "Text(0, 0.5, 'Count')"
      ]
     },
     "execution_count": 29,
     "metadata": {},
     "output_type": "execute_result"
    },
    {
     "data": {
      "image/png": "[encoded data removed]",
      "text/plain": [
       "<Figure size 720x432 with 1 Axes>"
      ]
     },
     "metadata": {},
     "output_type": "display_data"
    }
   ],
   "source": [
    "new_appt_df.Date_Scheduled.hist(bins=30, histtype='stepfilled', figsize=(10,6))\n",
    "plt.xlabel('Date')\n",
    "plt.ylabel('Count')"
   ]
  },
  {
   "cell_type": "markdown",
   "id": "a11bf80f",
   "metadata": {},
   "source": [
    "The number of appointments being scheduled is predominately right skewed, starting 12/2015, peaking around 5/2016 and going until 6/2018"
   ]
  },
  {
   "cell_type": "code",
   "execution_count": 61,
   "id": "b0b6de2f",
   "metadata": {},
   "outputs": [
    {
     "data": {
      "text/plain": [
       "datetime.date(2016, 4, 29)"
      ]
     },
     "execution_count": 61,
     "metadata": {},
     "output_type": "execute_result"
    }
   ],
   "source": [
    "new_appt_df.Appt_Date.min()"
   ]
  },
  {
   "cell_type": "code",
   "execution_count": 62,
   "id": "929fb223",
   "metadata": {},
   "outputs": [
    {
     "data": {
      "text/plain": [
       "datetime.date(2016, 6, 8)"
      ]
     },
     "execution_count": 62,
     "metadata": {},
     "output_type": "execute_result"
    }
   ],
   "source": [
    "new_appt_df.Appt_Date.max()"
   ]
  },
  {
   "cell_type": "code",
   "execution_count": 63,
   "id": "006ff02b",
   "metadata": {},
   "outputs": [
    {
     "data": {
      "text/plain": [
       "Text(0, 0.5, 'Number of Appointments')"
      ]
     },
     "execution_count": 63,
     "metadata": {},
     "output_type": "execute_result"
    },
    {
     "data": {
      "image/png": "[encoded data removed]",
      "text/plain": [
       "<Figure size 720x432 with 1 Axes>"
      ]
     },
     "metadata": {},
     "output_type": "display_data"
    }
   ],
   "source": [
    "new_appt_df.Appt_Date.hist(bins=20, histtype='stepfilled', figsize=(10,6))\n",
    "plt.xlabel('Date')\n",
    "plt.ylabel('Number of Appointments')"
   ]
  },
  {
   "cell_type": "code",
   "execution_count": 31,
   "id": "783cf30c",
   "metadata": {},
   "outputs": [
    {
     "name": "stdout",
     "output_type": "stream",
     "text": [
      "Appt_Month  Appt_Day \n",
      "April       Friday        2288\n",
      "June        Friday        2890\n",
      "            Monday        3222\n",
      "            Thursday      3024\n",
      "            Tuesday       3082\n",
      "            Wednesday     6219\n",
      "May         Friday        8166\n",
      "            Monday       12658\n",
      "            Saturday        25\n",
      "            Thursday      9151\n",
      "            Tuesday      14815\n",
      "            Wednesday    11830\n",
      "dtype: int64\n"
     ]
    }
   ],
   "source": [
    "appt_month_day = new_appt_df.groupby(['Appt_Month', 'Appt_Day'])\n",
    "print(appt_month_day.size())"
   ]
  },
  {
   "cell_type": "code",
   "execution_count": 65,
   "id": "af65fae3",
   "metadata": {},
   "outputs": [
    {
     "data": {
      "image/png": "[encoded data removed]",
      "text/plain": [
       "<Figure size 1152x720 with 1 Axes>"
      ]
     },
     "metadata": {},
     "output_type": "display_data"
    },
    {
     "data": {
      "image/png": "[encoded data removed]",
      "text/plain": [
       "<Figure size 1152x720 with 1 Axes>"
      ]
     },
     "metadata": {},
     "output_type": "display_data"
    }
   ],
   "source": [
    "sns.countplot(x='Appt_Day', data=new_appt_df, hue='Came_To_Appt', palette='BuGn')\n",
    "sns.despine(left=True)\n",
    "plt.title('Patients that Showed or No Showed to Appointment by Day of the Week')\n",
    "plt.show()\n",
    "\n",
    "sns.countplot(x='Appt_Month', data=new_appt_df, hue='Came_To_Appt', palette='BuGn')\n",
    "sns.despine(left=True)\n",
    "plt.title('Patients that Showed or No Showed to Appointment by Month')\n",
    "plt.show()"
   ]
  },
  {
   "cell_type": "markdown",
   "id": "1e70dc9d",
   "metadata": {},
   "source": [
    "When looking at no show vs show appointments by day of the week and then by month, it is clear the total number of people that do go to their appointments is significantly more than those who do not show up, no matter what day of the week or month the appointment is for.  \n",
    "\n",
    "May appears to be the month with the most appointments being scheduled, and Wednesday seems like the favorite day of the week to schedule for."
   ]
  },
  {
   "cell_type": "markdown",
   "id": "dad19f80",
   "metadata": {},
   "source": [
    "<a id='q1'></a>\n",
    "## Does a health condition make the patient more or less likely to show to their appointment?  \n",
    "\n",
    "> I will be taking a look at whether the patient came to their appointment and whether that patient has hypertension, diabetes, alcoholism, or if there is a handicap present.  The initial coorelation heatmap doesn't show any strong connections between these variables."
   ]
  },
  {
   "cell_type": "code",
   "execution_count": 33,
   "id": "7ef0c15d",
   "metadata": {},
   "outputs": [
    {
     "data": {
      "image/png": "[encoded data removed]",
      "text/plain": [
       "<Figure size 1080x720 with 2 Axes>"
      ]
     },
     "metadata": {},
     "output_type": "display_data"
    }
   ],
   "source": [
    "fig, ax = plt.subplots(figsize=(15,10))\n",
    "sns.heatmap(new_appt_df.corr(), ax=ax, annot=True);"
   ]
  },
  {
   "cell_type": "code",
   "execution_count": 34,
   "id": "adfd8752",
   "metadata": {},
   "outputs": [],
   "source": [
    "new_appt_df['conditions'] = new_appt_df['Diabetes'] + new_appt_df['Alcoholism'] + new_appt_df['Hypertension'] + new_appt_df['Handicap']"
   ]
  },
  {
   "cell_type": "code",
   "execution_count": 35,
   "id": "1ed719d1",
   "metadata": {},
   "outputs": [
    {
     "data": {
      "text/plain": [
       "0    59059\n",
       "1    12560\n",
       "2     5278\n",
       "3      463\n",
       "4       10\n",
       "Name: conditions, dtype: int64"
      ]
     },
     "execution_count": 35,
     "metadata": {},
     "output_type": "execute_result"
    }
   ],
   "source": [
    "new_appt_df['conditions'].value_counts()"
   ]
  },
  {
   "cell_type": "code",
   "execution_count": 36,
   "id": "81d862df",
   "metadata": {},
   "outputs": [
    {
     "name": "stdout",
     "output_type": "stream",
     "text": [
      "                           Age  Alcoholism  Diabetes  Handicap  Hypertension\n",
      "Gender Came_To_Appt                                                         \n",
      "F      0             36.166308         165       546       141          1434\n",
      "       1             39.688739         504      2471       551          6847\n",
      "M      0             30.835168         369       413       163          1115\n",
      "       1             34.461372        1768      1924       787          5347\n"
     ]
    }
   ],
   "source": [
    "table = pd.pivot_table(new_appt_df, index=['Gender', 'Came_To_Appt'], aggfunc={'Age':np.mean, 'Diabetes': np.sum, 'Alcoholism': np.sum, 'Hypertension': np.sum, 'Handicap': np.sum})\n",
    "print(table)"
   ]
  },
  {
   "cell_type": "code",
   "execution_count": 37,
   "id": "678bdb6d",
   "metadata": {},
   "outputs": [],
   "source": [
    "cond = new_appt_df.groupby(['Came_To_Appt', 'conditions'])\n",
    "cond_df = pd.DataFrame(cond.size())"
   ]
  },
  {
   "cell_type": "code",
   "execution_count": 38,
   "id": "f3472892",
   "metadata": {},
   "outputs": [
    {
     "data": {
      "text/html": [
       "<div>\n",
       "<style scoped>\n",
       "    .dataframe tbody tr th:only-of-type {\n",
       "        vertical-align: middle;\n",
       "    }\n",
       "\n",
       "    .dataframe tbody tr th {\n",
       "        vertical-align: top;\n",
       "    }\n",
       "\n",
       "    .dataframe thead th {\n",
       "        text-align: right;\n",
       "    }\n",
       "</style>\n",
       "<table border=\"1\" class=\"dataframe\">\n",
       "  <thead>\n",
       "    <tr style=\"text-align: right;\">\n",
       "      <th></th>\n",
       "      <th></th>\n",
       "      <th>Count</th>\n",
       "    </tr>\n",
       "    <tr>\n",
       "      <th>Came_To_Appt</th>\n",
       "      <th>conditions</th>\n",
       "      <th></th>\n",
       "    </tr>\n",
       "  </thead>\n",
       "  <tbody>\n",
       "    <tr>\n",
       "      <th rowspan=\"5\" valign=\"top\">0</th>\n",
       "      <th>0</th>\n",
       "      <td>12359</td>\n",
       "    </tr>\n",
       "    <tr>\n",
       "      <th>1</th>\n",
       "      <td>2273</td>\n",
       "    </tr>\n",
       "    <tr>\n",
       "      <th>2</th>\n",
       "      <td>924</td>\n",
       "    </tr>\n",
       "    <tr>\n",
       "      <th>3</th>\n",
       "      <td>71</td>\n",
       "    </tr>\n",
       "    <tr>\n",
       "      <th>4</th>\n",
       "      <td>3</td>\n",
       "    </tr>\n",
       "    <tr>\n",
       "      <th rowspan=\"5\" valign=\"top\">1</th>\n",
       "      <th>0</th>\n",
       "      <td>46700</td>\n",
       "    </tr>\n",
       "    <tr>\n",
       "      <th>1</th>\n",
       "      <td>10287</td>\n",
       "    </tr>\n",
       "    <tr>\n",
       "      <th>2</th>\n",
       "      <td>4354</td>\n",
       "    </tr>\n",
       "    <tr>\n",
       "      <th>3</th>\n",
       "      <td>392</td>\n",
       "    </tr>\n",
       "    <tr>\n",
       "      <th>4</th>\n",
       "      <td>7</td>\n",
       "    </tr>\n",
       "  </tbody>\n",
       "</table>\n",
       "</div>"
      ],
      "text/plain": [
       "                         Count\n",
       "Came_To_Appt conditions       \n",
       "0            0           12359\n",
       "             1            2273\n",
       "             2             924\n",
       "             3              71\n",
       "             4               3\n",
       "1            0           46700\n",
       "             1           10287\n",
       "             2            4354\n",
       "             3             392\n",
       "             4               7"
      ]
     },
     "execution_count": 38,
     "metadata": {},
     "output_type": "execute_result"
    }
   ],
   "source": [
    "# total number of patients grouped by how many conditions they have (0-4: hypertension, diabetes, alcoholism, or at least 1 disability)\n",
    "# seperated by whether the patient came to the appointment\n",
    "\n",
    "cond_df.rename(columns={0 : 'Count'}, inplace=True)\n",
    "cond_df"
   ]
  },
  {
   "cell_type": "code",
   "execution_count": 39,
   "id": "d1abcd28",
   "metadata": {},
   "outputs": [
    {
     "data": {
      "image/png": "[encoded data removed]",
      "text/plain": [
       "<Figure size 432x288 with 1 Axes>"
      ]
     },
     "metadata": {},
     "output_type": "display_data"
    }
   ],
   "source": [
    "sns.countplot(x='conditions', data=new_appt_df, hue='Came_To_Appt', palette='BuGn')\n",
    "sns.despine(left=True)\n",
    "plt.xlabel('Number of Conditions')\n",
    "plt.ylabel('Number of Patients')\n",
    "plt.title('Number of Patients with Conditions by Show / No Show')\n",
    "plt.show()"
   ]
  },
  {
   "cell_type": "markdown",
   "id": "dd7b9585",
   "metadata": {},
   "source": [
    "After breaking down the total number of appointments by whether a patient showed or no showed, and then by how many noted conditions they have:\n",
    "- The vast majority of patients have no identified condition\n",
    "- No matter the number of conditions, it can be seen the proportions ultimately are very similar.  "
   ]
  },
  {
   "cell_type": "markdown",
   "id": "19c8b3c9",
   "metadata": {},
   "source": [
    "In this sample of 77,370 patient records: \n",
    "- 15,591 did not show up to their appointment (20.15% of the total records)\n",
    "  - 12363 of those had no condition (15.98% of the total records) or 79.3% of patients that did not show\n",
    "  - 2218 had 1 condition (2.87%) or 14.23%\n",
    "  - 937 had 2 conditions (1.21%) or 6.01%\n",
    "  - 70 had 3 conditions (< 1%)\n",
    "  - 3 had 4 conditions (< 1%)\n",
    "  \n",
    "- 61,779 did show up to their appointment (79.85% of the total records)\n",
    "  - 46680 had no condition (60.33% of the total records) or 75.56% of patients that showed up\n",
    "  - 10230 had 1 condition (13.22%) or 16.56%\n",
    "  - 4455 had 2 conditions (5.76%) or 7.21%\n",
    "  - 407 had 3 conditions (< 1%)\n",
    "  - 7 had 4 condtions (< 1%)"
   ]
  },
  {
   "cell_type": "code",
   "execution_count": 40,
   "id": "5260e8a8",
   "metadata": {},
   "outputs": [],
   "source": [
    "# print a columns total count on how many patients have a certain disease.  Additionally show pie chart percentage \n",
    "# who have that condition\n",
    "\n",
    "plt.rcParams[\"figure.figsize\"] = (4, 4)\n",
    "\n",
    "def getTotalAndPie(column, l):\n",
    "    fig = plt.figure()\n",
    "    total = new_appt_df[column].value_counts();\n",
    "    print(total)\n",
    "    plt.pie(total, explode = [0, 0.2], labels=l, autopct='%1.1f%%')\n",
    "    plt.show()\n",
    "    return;"
   ]
  },
  {
   "cell_type": "code",
   "execution_count": 41,
   "id": "f1859e98",
   "metadata": {},
   "outputs": [
    {
     "name": "stdout",
     "output_type": "stream",
     "text": [
      "0    70637\n",
      "1     6733\n",
      "Name: Scholarship, dtype: int64\n"
     ]
    },
    {
     "data": {
      "image/png": "[encoded data removed]",
      "text/plain": [
       "<Figure size 288x288 with 1 Axes>"
      ]
     },
     "metadata": {},
     "output_type": "display_data"
    }
   ],
   "source": [
    "getTotalAndPie('Scholarship', [\"Doesn't Have Scholarship\", \"Has Scholarship\"])"
   ]
  },
  {
   "cell_type": "code",
   "execution_count": 42,
   "id": "f831808d",
   "metadata": {},
   "outputs": [
    {
     "name": "stdout",
     "output_type": "stream",
     "text": [
      "0    62627\n",
      "1    14743\n",
      "Name: Hypertension, dtype: int64\n"
     ]
    },
    {
     "data": {
      "image/png": "[encoded data removed]",
      "text/plain": [
       "<Figure size 288x288 with 1 Axes>"
      ]
     },
     "metadata": {},
     "output_type": "display_data"
    }
   ],
   "source": [
    "getTotalAndPie('Hypertension', [\"Doesn't Have hypertension\", \"Has Hypertension\"])"
   ]
  },
  {
   "cell_type": "code",
   "execution_count": 43,
   "id": "4d571272",
   "metadata": {},
   "outputs": [
    {
     "name": "stdout",
     "output_type": "stream",
     "text": [
      "0    72016\n",
      "1     5354\n",
      "Name: Diabetes, dtype: int64\n"
     ]
    },
    {
     "data": {
      "image/png": "[encoded data removed]",
      "text/plain": [
       "<Figure size 288x288 with 1 Axes>"
      ]
     },
     "metadata": {},
     "output_type": "display_data"
    }
   ],
   "source": [
    "getTotalAndPie('Diabetes', [\"Doesn't have Diabetes\", \"Has Diabetes\"])"
   ]
  },
  {
   "cell_type": "code",
   "execution_count": 44,
   "id": "6dcdfb6b",
   "metadata": {},
   "outputs": [
    {
     "name": "stdout",
     "output_type": "stream",
     "text": [
      "0    74564\n",
      "1     2806\n",
      "Name: Alcoholism, dtype: int64\n"
     ]
    },
    {
     "data": {
      "image/png": "[encoded data removed]",
      "text/plain": [
       "<Figure size 288x288 with 1 Axes>"
      ]
     },
     "metadata": {},
     "output_type": "display_data"
    }
   ],
   "source": [
    "getTotalAndPie('Alcoholism', [\"Doesn't have Alcoholism\", \"Has Alcoholism\"])"
   ]
  },
  {
   "cell_type": "code",
   "execution_count": 45,
   "id": "f676ba04",
   "metadata": {},
   "outputs": [
    {
     "name": "stdout",
     "output_type": "stream",
     "text": [
      "0    75728\n",
      "1     1642\n",
      "Name: Handicap, dtype: int64\n"
     ]
    },
    {
     "data": {
      "image/png": "[encoded data removed]",
      "text/plain": [
       "<Figure size 288x288 with 1 Axes>"
      ]
     },
     "metadata": {},
     "output_type": "display_data"
    }
   ],
   "source": [
    "getTotalAndPie('Handicap', [\"No Handicap Present\", \"Handicap Present\"])"
   ]
  },
  {
   "cell_type": "markdown",
   "id": "df88ae72",
   "metadata": {},
   "source": [
    "<a id='q2'></a>\n",
    "## Is gender a factor in patients keeping their appointment?  Is one gender more likely to keep appointments over the other?\n"
   ]
  },
  {
   "cell_type": "code",
   "execution_count": 46,
   "id": "496c89a5",
   "metadata": {},
   "outputs": [
    {
     "name": "stdout",
     "output_type": "stream",
     "text": [
      "Total number of men that didn't come to their appointment : 7723\n",
      "Total number of men that did come to their appointment : 30962\n"
     ]
    }
   ],
   "source": [
    "# Men who did / did not show up\n",
    "\n",
    "men_no_show = no_show_df[no_show_df['Gender'] == 'M']\n",
    "men_no_show = int(len(men_no_show))\n",
    "print(\"Total number of men that didn\\'t come to their appointment :\", men_no_show)\n",
    "\n",
    "men_show = show_df[show_df['Gender'] == 'M']\n",
    "men_show = int(len(men_show))\n",
    "print(\"Total number of men that did come to their appointment :\", men_show)"
   ]
  },
  {
   "cell_type": "code",
   "execution_count": 47,
   "id": "661c2ff8",
   "metadata": {},
   "outputs": [
    {
     "name": "stdout",
     "output_type": "stream",
     "text": [
      "Total number of women that didn't come to their appointment : 7907\n",
      "Total number of women that did come to their appointment : 30778\n"
     ]
    }
   ],
   "source": [
    "# Women who did / did not show up\n",
    "\n",
    "women_no_show = no_show_df[no_show_df['Gender'] == 'F']\n",
    "women_no_show = int(len(women_no_show))\n",
    "print(\"Total number of women that didn\\'t come to their appointment :\", women_no_show)\n",
    "\n",
    "women_show = show_df[show_df['Gender'] == 'F']\n",
    "women_show = int(len(women_show))\n",
    "print(\"Total number of women that did come to their appointment :\", women_show)"
   ]
  },
  {
   "cell_type": "code",
   "execution_count": 48,
   "id": "6e6212a6",
   "metadata": {},
   "outputs": [
    {
     "data": {
      "text/html": [
       "<div>\n",
       "<style scoped>\n",
       "    .dataframe tbody tr th:only-of-type {\n",
       "        vertical-align: middle;\n",
       "    }\n",
       "\n",
       "    .dataframe tbody tr th {\n",
       "        vertical-align: top;\n",
       "    }\n",
       "\n",
       "    .dataframe thead th {\n",
       "        text-align: right;\n",
       "    }\n",
       "</style>\n",
       "<table border=\"1\" class=\"dataframe\">\n",
       "  <thead>\n",
       "    <tr style=\"text-align: right;\">\n",
       "      <th></th>\n",
       "      <th>Male</th>\n",
       "      <th>Female</th>\n",
       "    </tr>\n",
       "  </thead>\n",
       "  <tbody>\n",
       "    <tr>\n",
       "      <th>Did Show</th>\n",
       "      <td>30962</td>\n",
       "      <td>30778</td>\n",
       "    </tr>\n",
       "    <tr>\n",
       "      <th>Didn't Show</th>\n",
       "      <td>7723</td>\n",
       "      <td>7907</td>\n",
       "    </tr>\n",
       "  </tbody>\n",
       "</table>\n",
       "</div>"
      ],
      "text/plain": [
       "              Male  Female\n",
       "Did Show     30962   30778\n",
       "Didn't Show   7723    7907"
      ]
     },
     "execution_count": 48,
     "metadata": {},
     "output_type": "execute_result"
    }
   ],
   "source": [
    "# The total no show vs show appointments by Gender\n",
    "\n",
    "gender_data = {\n",
    "    'Male': [men_show, men_no_show],\n",
    "    'Female': [women_show, women_no_show]\n",
    "}\n",
    "\n",
    "gender_df = pd.DataFrame(data=gender_data, index=['Did Show', 'Didn\\'t Show'])\n",
    "gender_df"
   ]
  },
  {
   "cell_type": "code",
   "execution_count": 73,
   "id": "77991e75",
   "metadata": {},
   "outputs": [
    {
     "data": {
      "image/png": "[encoded data removed]",
      "text/plain": [
       "<Figure size 1152x720 with 1 Axes>"
      ]
     },
     "metadata": {},
     "output_type": "display_data"
    }
   ],
   "source": [
    "gender_df.plot(kind='bar', color=['lightblue', 'pink'], linewidth=1)\n",
    "plt.title('Total Patients Who Did and Did Not Show by Gender')\n",
    "sns.despine(left=True)\n",
    "plt.show()"
   ]
  },
  {
   "cell_type": "markdown",
   "id": "9eab3b32",
   "metadata": {},
   "source": [
    "**Total Patients Who Did and Did Not Show by Gender**\n",
    "\n",
    "After selecting the records randomly from the original data set, the amount of patients that showed up and didn't show up were almost perfectly equal between the two genders. In a seperate notebook I have the same variables, same calculations, just over the larger dataset.  After plotting this same chart with the larger dataset, it would appear women are far more likely to show then men are.  Of course, judging this by first glance would be risky. It is expected far more women to be showing up to their appointments with almost double the amount of people compared to men. "
   ]
  },
  {
   "cell_type": "markdown",
   "id": "0decc7da",
   "metadata": {},
   "source": [
    "<a id='q3'></a>\n",
    "## Effects of Days Spent Waiting on Appointment Attendance\n",
    "\n",
    "> #### Is there a relationship between the number of days a patient waits between scheduling the appointment and the actual appointment and whether the patient will show / no show?"
   ]
  },
  {
   "cell_type": "markdown",
   "id": "1f88c735",
   "metadata": {},
   "source": [
    "The following blocks create a column of time groups, which will then be assigned to each row based on the days between the date the appointment was scheduled and the date for which it was scheduled.\n",
    "\n",
    "After the new values are assigned, I looked at the total appointments by group and by whether the patient showed up or not.  I split the table into two, one for counts of patients that showed up and one for those who did not.  I renamed the count columns to label the difference and joined it back to one structure in a format ready to chart."
   ]
  },
  {
   "cell_type": "code",
   "execution_count": 50,
   "id": "6a5bc062",
   "metadata": {},
   "outputs": [],
   "source": [
    "# Create groups to categorize days waiting for each appointment\n",
    "new_appt_df['time_group'] = pd.cut(x=new_appt_df['Days_Between'], \n",
    "                                   bins=[-1, 10, 20, 30, 40, 50, 60, 70, 80, 90, 100, 110, 120, 130, 140, 150, 160, 170, 180, 190], labels=['0-10', '11-20', '21-30', '31-40', '41-50', '51-60', '61-70', '71-80', '81-90', '91-100', '101-110', '111-120', '121-130', '131-140', '141-150', '151-160', '161-170', '171-180', '181+'])"
   ]
  },
  {
   "cell_type": "code",
   "execution_count": 51,
   "id": "8281603b",
   "metadata": {},
   "outputs": [],
   "source": [
    "# totals per time_group of those who did and did not come to their appointment\n",
    "# 0 = No, they didn't show to their appointment and 1 = They did show up\n",
    "\n",
    "time_grouping = new_appt_df.groupby(['time_group', 'Came_To_Appt'])\n",
    "n = (time_grouping.size())\n",
    "time_df = pd.DataFrame(n, columns={'Count'})"
   ]
  },
  {
   "cell_type": "code",
   "execution_count": 52,
   "id": "584ea50e",
   "metadata": {},
   "outputs": [],
   "source": [
    "reset_df = time_df.reset_index()\n",
    "\n",
    "show_group_df = reset_df[reset_df['Came_To_Appt'] == 1]\n",
    "no_show_group_df = reset_df[reset_df['Came_To_Appt'] == 0]"
   ]
  },
  {
   "cell_type": "code",
   "execution_count": 53,
   "id": "96f49d1e",
   "metadata": {},
   "outputs": [],
   "source": [
    "show_group_df = show_group_df.drop('Came_To_Appt', 1)\n",
    "show_group_df.rename(columns= {'Count' : 'Show_Count'}, inplace=True)"
   ]
  },
  {
   "cell_type": "code",
   "execution_count": 54,
   "id": "f960c28e",
   "metadata": {},
   "outputs": [],
   "source": [
    "no_show_group_df = no_show_group_df.drop('Came_To_Appt', 1)\n",
    "no_show_group_df.rename(columns= {'Count' : 'No_Show_Count'}, inplace=True)"
   ]
  },
  {
   "cell_type": "code",
   "execution_count": 55,
   "id": "69774582",
   "metadata": {},
   "outputs": [],
   "source": [
    "combo_df = show_group_df.set_index('time_group').join(no_show_group_df.set_index('time_group'))"
   ]
  },
  {
   "cell_type": "code",
   "execution_count": 56,
   "id": "04da776f",
   "metadata": {},
   "outputs": [
    {
     "data": {
      "text/html": [
       "<div>\n",
       "<style scoped>\n",
       "    .dataframe tbody tr th:only-of-type {\n",
       "        vertical-align: middle;\n",
       "    }\n",
       "\n",
       "    .dataframe tbody tr th {\n",
       "        vertical-align: top;\n",
       "    }\n",
       "\n",
       "    .dataframe thead th {\n",
       "        text-align: right;\n",
       "    }\n",
       "</style>\n",
       "<table border=\"1\" class=\"dataframe\">\n",
       "  <thead>\n",
       "    <tr style=\"text-align: right;\">\n",
       "      <th></th>\n",
       "      <th>Show_Count</th>\n",
       "      <th>No_Show_Count</th>\n",
       "    </tr>\n",
       "    <tr>\n",
       "      <th>time_group</th>\n",
       "      <th></th>\n",
       "      <th></th>\n",
       "    </tr>\n",
       "  </thead>\n",
       "  <tbody>\n",
       "    <tr>\n",
       "      <th>0-10</th>\n",
       "      <td>45676</td>\n",
       "      <td>7823</td>\n",
       "    </tr>\n",
       "    <tr>\n",
       "      <th>11-20</th>\n",
       "      <td>6416</td>\n",
       "      <td>3027</td>\n",
       "    </tr>\n",
       "    <tr>\n",
       "      <th>21-30</th>\n",
       "      <td>4853</td>\n",
       "      <td>2363</td>\n",
       "    </tr>\n",
       "    <tr>\n",
       "      <th>31-40</th>\n",
       "      <td>2377</td>\n",
       "      <td>1282</td>\n",
       "    </tr>\n",
       "    <tr>\n",
       "      <th>41-50</th>\n",
       "      <td>906</td>\n",
       "      <td>484</td>\n",
       "    </tr>\n",
       "    <tr>\n",
       "      <th>51-60</th>\n",
       "      <td>475</td>\n",
       "      <td>254</td>\n",
       "    </tr>\n",
       "    <tr>\n",
       "      <th>61-70</th>\n",
       "      <td>614</td>\n",
       "      <td>227</td>\n",
       "    </tr>\n",
       "    <tr>\n",
       "      <th>71-80</th>\n",
       "      <td>215</td>\n",
       "      <td>96</td>\n",
       "    </tr>\n",
       "    <tr>\n",
       "      <th>81-90</th>\n",
       "      <td>102</td>\n",
       "      <td>42</td>\n",
       "    </tr>\n",
       "    <tr>\n",
       "      <th>91-100</th>\n",
       "      <td>38</td>\n",
       "      <td>6</td>\n",
       "    </tr>\n",
       "    <tr>\n",
       "      <th>101-110</th>\n",
       "      <td>18</td>\n",
       "      <td>6</td>\n",
       "    </tr>\n",
       "    <tr>\n",
       "      <th>111-120</th>\n",
       "      <td>13</td>\n",
       "      <td>1</td>\n",
       "    </tr>\n",
       "    <tr>\n",
       "      <th>121-130</th>\n",
       "      <td>6</td>\n",
       "      <td>1</td>\n",
       "    </tr>\n",
       "    <tr>\n",
       "      <th>131-140</th>\n",
       "      <td>4</td>\n",
       "      <td>2</td>\n",
       "    </tr>\n",
       "    <tr>\n",
       "      <th>141-150</th>\n",
       "      <td>2</td>\n",
       "      <td>3</td>\n",
       "    </tr>\n",
       "    <tr>\n",
       "      <th>151-160</th>\n",
       "      <td>1</td>\n",
       "      <td>5</td>\n",
       "    </tr>\n",
       "    <tr>\n",
       "      <th>161-170</th>\n",
       "      <td>11</td>\n",
       "      <td>2</td>\n",
       "    </tr>\n",
       "    <tr>\n",
       "      <th>171-180</th>\n",
       "      <td>13</td>\n",
       "      <td>6</td>\n",
       "    </tr>\n",
       "    <tr>\n",
       "      <th>181+</th>\n",
       "      <td>0</td>\n",
       "      <td>0</td>\n",
       "    </tr>\n",
       "  </tbody>\n",
       "</table>\n",
       "</div>"
      ],
      "text/plain": [
       "            Show_Count  No_Show_Count\n",
       "time_group                           \n",
       "0-10             45676           7823\n",
       "11-20             6416           3027\n",
       "21-30             4853           2363\n",
       "31-40             2377           1282\n",
       "41-50              906            484\n",
       "51-60              475            254\n",
       "61-70              614            227\n",
       "71-80              215             96\n",
       "81-90              102             42\n",
       "91-100              38              6\n",
       "101-110             18              6\n",
       "111-120             13              1\n",
       "121-130              6              1\n",
       "131-140              4              2\n",
       "141-150              2              3\n",
       "151-160              1              5\n",
       "161-170             11              2\n",
       "171-180             13              6\n",
       "181+                 0              0"
      ]
     },
     "execution_count": 56,
     "metadata": {},
     "output_type": "execute_result"
    }
   ],
   "source": [
    "# the final total counts on no-show vs show appointments \n",
    "\n",
    "combo_df"
   ]
  },
  {
   "cell_type": "code",
   "execution_count": 57,
   "id": "50aedda9",
   "metadata": {},
   "outputs": [
    {
     "data": {
      "text/plain": [
       "Text(0.5, 1.0, 'Days Waiting for an Appointment: No Show vs Show Appointments')"
      ]
     },
     "execution_count": 57,
     "metadata": {},
     "output_type": "execute_result"
    },
    {
     "data": {
      "image/png": "[encoded data removed]",
      "text/plain": [
       "<Figure size 1152x720 with 1 Axes>"
      ]
     },
     "metadata": {},
     "output_type": "display_data"
    }
   ],
   "source": [
    "## line chart depicting the trend of appointments kept and no showed over the course \n",
    "\n",
    "plt.rc('lines', linewidth=2, marker='*')\n",
    "plt.rcParams[\"figure.figsize\"] = (16, 10)\n",
    "combo_df.plot()\n",
    "plt.xlabel(\"Days Waiting Between Scheduling and Appointment\")\n",
    "plt.ylabel(\"Number of Appointments\")\n",
    "plt.title(\"Days Waiting for an Appointment: No Show vs Show Appointments\")"
   ]
  },
  {
   "cell_type": "markdown",
   "id": "794a5107",
   "metadata": {},
   "source": [
    "Being left skewed, it is seen that most appointments are scheduled within a 0 - 10 day waiting period. Both the number of patients that did show and didn't show see a decrease after that time period but follow a similar pattern trend."
   ]
  },
  {
   "cell_type": "code",
   "execution_count": 58,
   "id": "20171a5a",
   "metadata": {},
   "outputs": [
    {
     "data": {
      "image/png": "[encoded data removed]",
      "text/plain": [
       "<Figure size 1152x720 with 1 Axes>"
      ]
     },
     "metadata": {},
     "output_type": "display_data"
    }
   ],
   "source": [
    "combo_df.plot(kind='bar', stacked=True)\n",
    "plt.xlabel('Days Waiting Between Scheduling and Appointment')\n",
    "plt.ylabel('Count of Appointments')\n",
    "plt.show()"
   ]
  },
  {
   "cell_type": "markdown",
   "id": "48a4e939",
   "metadata": {},
   "source": [
    "Viewing the same data as a stacked bar chart, there is a noticeable trend of total appointments with long waiting periods being less frequently scheduled. Again, the proportions between those who did and did not show remain fairly similar."
   ]
  },
  {
   "cell_type": "markdown",
   "id": "f7919756",
   "metadata": {},
   "source": [
    "<a id='conclude'></a>\n",
    "## Conclusions\n",
    "\n",
    "**Conditions and Showing up**\n",
    "\n",
    "When splitting the records by those who did and did not show up, and then further grouping by number of conditions present (alcoholism, hypertension, diabetes, or disability) the percentages were fairly similar between both groups.\n",
    "\n",
    "79.3% of patients who did not show up had no documented condition compared to 75.5% who did show up\n",
    "\n",
    "Similarly, patients with 1 condition accounted for 14.23% of those who didn't show compared to 16.56% who did show up.\n",
    "\n",
    "2 conditions accounted for 6.01% of the no-shows and 7.21% of those who did show\n",
    "\n",
    "It does not appear that these conditions majorly influence patients to show up to their appointments or not\n",
    "\n",
    "---\n",
    "**Gender Influence on Showing to Appointments**\n",
    "\n",
    "After accounting for the vast difference in number of women in the data compared to men, it can be seen the number of those who show up or don't show up are pretty much split down the middle between genders. Therefore it doesn't appear gender is a good indication on whether a patient will come to their appointment.\n",
    "\n",
    "---\n",
    "\n",
    "**Days Spent Waiting Between Scheduling an Appointment and the Actual Appointment**\n",
    "\n",
    "As a reminder, 15,591 did not show up to their appointment while 61,779 did show up to their appointment.  After grouping waiting periods into 10 day segments:\n",
    "\n",
    "- 53621 patients waited 1 - 10 days, of those 85.34% showed up and 14.66% did not\n",
    "- 9409 patients waited 11 - 20 days, 68.29% showed up and 31.71% did not\n",
    "- 7155 patients waited 21 - 30 days, 67.1% showed up and 32.9% did not\n",
    "- 3659 patients waited 31 - 40 days, 65.07% showed up and 34.93% did not\n",
    "- 1405 patients waited 41 - 50 days, 65.69% showed up and 34.31 did not\n",
    "\n",
    "The percentages of those who do and do not show up remain very similar no matter how long the patient waited between scheduling the appointment and the actual date of the appointment. This information also is not a good indicator on judging whether a patient will show up to their appointment.\n",
    "\n",
    "\n",
    "### Limitations"
   ]
  },
  {
   "cell_type": "markdown",
   "id": "710b377b",
   "metadata": {},
   "source": [
    "1. The data collection is from a very small timeframe.  It is a quick snapshot of people's habits with coming to their scheduled appointments, but can't be a reliable sample without a larger view.  Other factors may influence whether a patient shows such as weather, holidays, etc.\n",
    "\n",
    "2.  There are many records of patients who are identified as infants or children.  While only an assumption, it is very likely these patients have no control over if they show up or don't show up.\n",
    "\n",
    "3.  Additionally, the range of factors that can influence a patient's decision to show up or not to show up are so vast it would be hard to capture all of them.  Along with those noted above, a patient's general feelings about healthcare, doctors, and their personal health have the ability to strongly influence a person going to the doctor."
   ]
  }
 ],
 "metadata": {
  "kernelspec": {
   "display_name": "Python 3",
   "language": "python",
   "name": "python3"
  },
  "language_info": {
   "codemirror_mode": {
    "name": "ipython",
    "version": 3
   },
   "file_extension": ".py",
   "mimetype": "text/x-python",
   "name": "python",
   "nbconvert_exporter": "python",
   "pygments_lexer": "ipython3",
   "version": "3.8.8"
  }
 },
 "nbformat": 4,
 "nbformat_minor": 5
}
